{
 "cells": [
  {
   "cell_type": "code",
   "execution_count": 1,
   "metadata": {},
   "outputs": [],
   "source": [
    "class Node(object):\n",
    "    \"\"\"This class represents a node in a graph.\"\"\"\n",
    "    \n",
    "    def __init__(self, label: str=None):\n",
    "        \"\"\"\n",
    "        Initialize a new node.\n",
    "        \n",
    "        Args:\n",
    "            label: the string identifier for the node\n",
    "        \"\"\"\n",
    "        self.label = label\n",
    "        self.children = []\n",
    "        \n",
    "    def __lt__(self,other):\n",
    "        \"\"\"\n",
    "        Perform the less than operation (self < other).\n",
    "        \n",
    "        Args:\n",
    "            other: the other Node to compare to\n",
    "        \"\"\"\n",
    "        return (self.label < other.label)\n",
    "    \n",
    "    def __gt__(self,other):\n",
    "        \"\"\"\n",
    "        Perform the greater than operation (self > other).\n",
    "        \n",
    "        Args:\n",
    "            other: the other Node to compare to\n",
    "        \"\"\"\n",
    "        return (self.label > other.label)\n",
    "    \n",
    "    def __repr__(self):\n",
    "        \"\"\"Return a string form of this node.\"\"\"\n",
    "        return '{} -> {}'.format(self.label, self.children)\n",
    "    \n",
    "    def add_child(self, node, cost=1):\n",
    "        \"\"\"\n",
    "        Add a child node to this node.\n",
    "        \n",
    "        Args:\n",
    "            node: the node to add to the children\n",
    "            cost: the cost of the edge (default 1)\n",
    "        \"\"\"\n",
    "        edge = Edge(self, node, cost)\n",
    "        self.children.append(edge)\n",
    "    \n",
    "    \n",
    "class Edge(object):\n",
    "    \"\"\"This class represents an edge in a graph.\"\"\"\n",
    "    \n",
    "    def __init__(self, source: Node, destination: Node, cost: int=1):\n",
    "        \"\"\"\n",
    "        Initialize a new edge.\n",
    "        \n",
    "        Args:\n",
    "            source: the source of the edge\n",
    "            destination: the destination of the edge\n",
    "            cost: the cost of the edge (default 1)\n",
    "        \"\"\"\n",
    "        self.source = source\n",
    "        self.destination = destination\n",
    "        self.cost = cost\n",
    "    \n",
    "    def __repr__(self):\n",
    "        \"\"\"Return a string form of this edge.\"\"\"\n",
    "        return '{}: {}'.format(self.cost, self.destination.label)"
   ]
  },
  {
   "cell_type": "markdown",
   "metadata": {},
   "source": [
    "create all the nodes"
   ]
  },
  {
   "cell_type": "code",
   "execution_count": 2,
   "metadata": {},
   "outputs": [],
   "source": [
    "AA= Node('AA')\n",
    "Adama = Node('Adama')\n",
    "Moyale= Node('Moyale')\n",
    "Worabe= Node('Worabe')\n",
    "Debrebirhan=Node('Debrebirhan')\n",
    "Batu= Node('Batu')\n",
    "Welkite= Node('Welkite')\n",
    "Ambo=Node('Ambo')\n",
    "Nekemte=Node('Nekemte')\n",
    "Gimbi=Node('Gimbi')\n",
    "Dembidollo=Node('Dembidollo')\n",
    "Assosa=Node('Assosa')\n",
    "Metekel=Node('Metekel')\n",
    "Bahirdar=Node('Bahirdar')\n",
    "Azezo=Node('Azezo')\n",
    "Gonder=Node('Gonder')\n",
    "Metema=Node('Metema')\n",
    "Kartum=Node('Kartum')\n",
    "Humera=Node('Humera')\n",
    "Shire=Node('Shire')\n",
    "Debarke=Node('Debarke')\n",
    "Axum=Node('Axum')\n",
    "Adwa=Node('Adwa')\n",
    "Adigrat=Node('Adigrat')\n",
    "Asmera=Node('Asmera')\n",
    "Mekelle=Node('Mekelle')\n",
    "Sekota=Node('Sekota')\n",
    "Lalibela=Node('Lalibela')\n",
    "Woldia=Node('Woldia')\n",
    "Alamata=Node('Alamata')\n",
    "Samara=Node('Samara')\n",
    "Fantrasu=Node('Fantrasu')\n",
    "Killbetrasu=Node('Killbetrasu')\n",
    "Gabirasu=Node('Gabirasu')\n",
    "Awash=Node('Awash')\n",
    "Matahara=Node('Matahara')\n",
    "Chiro=Node('Chiro')\n",
    "Diredawa=Node('Diredawa')\n",
    "Harar=Node('Harar')\n",
    "Babile=Node('Babile')\n",
    "Jigjiga=Node('Jigjiga')\n",
    "Degahabur=Node('Degahabur')\n",
    "Kebridahar=Node('Kebridahar')\n",
    "Werder=Node('Werder')\n",
    "Gode=Node('Gode')\n",
    "Dollo=Node('Dollo')\n",
    "Mokadisho=Node('Mokadisho')\n",
    "Sofoumer=Node('Sofoumer')\n",
    "Goba=Node('Goba')\n",
    "Bale=Node('Bale')\n",
    "Liben=Node('Liben')\n",
    "Dodolla=Node('Dodolla')\n",
    "Assesa=Node('Assesa')\n",
    "Assela=Node('Assela')\n",
    "Shashemene=Node('Shashemene')\n",
    "Hawassa=Node('Hawassa')\n",
    "Dilla=Node('Dilla')\n",
    "Bulehora=Node('Bulehora')\n",
    "Yabello=Node('Yabello')\n",
    "Nirobi=Node('Nirobi')\n",
    "Konso=Node('Konso')\n",
    "Arbaminch=Node('Arbaminch')\n",
    "Basketo=Node('Basketo')\n",
    "BenchMaji=Node('BenchMaji')\n",
    "Juba=Node('Juba')\n",
    "Dawro=Node('Dawro')\n",
    "Bonga=Node('Bonga')\n",
    "Jimma=Node('Jimma')\n",
    "Bedelle=Node('Bedelle')\n",
    "Gore=Node('Gore')\n",
    "Tepi=Node('Tepi')\n",
    "MezanTeferi=Node('MezanTeferi')\n",
    "Gambella=Node('Gambella')\n",
    "Dembidollo=Node('Dembidollo')\n",
    "Hossana=Node('Hossana')\n",
    "WoilataSodo=Node('WoilataSodo')\n",
    "Butajira=Node('Butajira')\n",
    "Debresina=Node('Debresina')\n",
    "Kemise=Node('Kemise')\n",
    "Injibara=Node('Injibara')\n",
    "Finoteselam=Node('Finoteselam')\n",
    "Debretabor=Node('Debretabor')\n",
    "Dessie=Node('Dessie')\n",
    "Debremarkos=Node('Debremarkos')\n"
   ]
  },
  {
   "cell_type": "markdown",
   "metadata": {},
   "source": [
    "create all the edges"
   ]
  },
  {
   "cell_type": "code",
   "execution_count": 3,
   "metadata": {},
   "outputs": [],
   "source": [
    "AA.add_child(Adama, 3)\n",
    "AA.add_child(Ambo, 5)\n",
    "AA.add_child(Debrebirhan, 5)\n",
    "\n",
    "Debrebirhan.add_child(Debresina,2)\n",
    "\n",
    "Debresina.add_child(Kemise,6)\n",
    "\n",
    "Adama.add_child(Batu, 4)\n",
    "Adama.add_child(Assela, 4)\n",
    "Adama.add_child(Matahara, 3)\n",
    "\n",
    "Batu.add_child(Butajira, 2)\n",
    "Batu.add_child(Shashemene, 3)\n",
    "\n",
    "Butajira.add_child(Worabe, 2)\n",
    "\n",
    "Worabe.add_child(Welkite, 5)\n",
    "Worabe.add_child(Hossana, 2)\n",
    "\n",
    "Welkite.add_child(Ambo, 6)\n",
    "Welkite.add_child(Jimma, 8)\n",
    "\n",
    "Ambo.add_child(Nekemte, 9 )\n",
    "\n",
    "Nekemte.add_child(Gimbi, 4)\n",
    "Nekemte.add_child(Bedelle, 2)\n",
    "\n",
    "Gimbi.add_child(Dembidollo, 6)\n",
    "\n",
    "Dembidollo.add_child(Assosa, 12)\n",
    "Dembidollo.add_child(Gambella, 4)\n",
    "\n",
    "Metekel.add_child(Bahirdar, 11)\n",
    "\n",
    "Bahirdar.add_child(Azezo, 7)\n",
    "Bahirdar.add_child(Injibara, 4)\n",
    "Bahirdar.add_child(Finoteselam, 6)\n",
    "Bahirdar.add_child(Debretabor, 4)\n",
    "\n",
    "Azezo.add_child(Gonder, 1)\n",
    "Azezo.add_child(Metema,7)\n",
    "\n",
    "Gonder.add_child(Metema, 7)\n",
    "Gonder.add_child(Humera, 9)\n",
    "Gonder.add_child(Debarke, 4)\n",
    "\n",
    "Debarke.add_child(Shire,7)\n",
    "\n",
    "\n",
    "Metema.add_child(Kartum, 19)\n",
    "Kartum.add_child(Humera, 21)\n",
    "Humera.add_child(Shire, 8)\n",
    "\n",
    "Shire.add_child(Debarke, 7)\n",
    "Shire.add_child(Axum, 2)\n",
    "\n",
    "Axum.add_child(Adwa, 1)\n",
    "Axum.add_child(Asmera, 5)\n",
    "\n",
    "Adwa.add_child(Adigrat, 4)\n",
    "Adwa.add_child(Mekelle, 7)\n",
    "\n",
    "Adigrat.add_child(Asmera, 6)\n",
    "Adigrat.add_child(Mekelle, 4)\n",
    "\n",
    "Mekelle.add_child(Sekota, 9)\n",
    "Mekelle.add_child(Alamata, 5)\n",
    "\n",
    "Sekota.add_child(Lalibela, 6)\n",
    "Sekota.add_child(Alamata, 6)\n",
    "\n",
    "Lalibela.add_child(Debretabor, 8 )\n",
    "Lalibela.add_child(Woldia, 7)\n",
    "\n",
    "Woldia.add_child(Dessie,6)\n",
    "\n",
    "Debretabor.add_child(Bahirdar, 4)\n",
    "\n",
    "Alamata.add_child(Samara, 11)\n",
    "Alamata.add_child(Woldia, 3)\n",
    "\n",
    "Injibara.add_child(Finoteselam, 6)\n",
    "Finoteselam.add_child(Debremarkos, 3)\n",
    "\n",
    "Debremarkos.add_child(Debresina, 17)\n",
    "Debrebirhan.add_child(Debresina, 2 )\n",
    "\n",
    "Kemise.add_child(Debresina, 6)\n",
    "Kemise.add_child(Dessie, 4)\n",
    "\n",
    "Dessie.add_child(Woldia, 6)\n",
    "\n",
    "Woldia.add_child(Alamata, 3)\n",
    "Woldia.add_child(Samara, 8)\n",
    "\n",
    "Alamata.add_child(Samara, 11)\n",
    "Alamata.add_child(Sekota, 6)\n",
    "\n",
    "Samara.add_child(Fantrasu, 7)\n",
    "Samara.add_child(Gabirasu, 9)\n",
    "\n",
    "Fantrasu.add_child(Killbetrasu, 6)\n",
    "Gabirasu.add_child(Awash, 5)\n",
    "\n",
    "Awash.add_child(Matahara, 1 )\n",
    "Awash.add_child(Chiro, 4)\n",
    "\n",
    "Chiro.add_child(Diredawa, 8)\n",
    "Diredawa.add_child(Harar, 4 )\n",
    "Harar.add_child(Babile, 2)\n",
    "Babile.add_child(Jigjiga, 3)\n",
    "Jigjiga.add_child(Degahabur, 5)\n",
    "Degahabur.add_child(Kebridahar, 6)\n",
    "\n",
    "Kebridahar.add_child(Werder, 6)\n",
    "Kebridahar.add_child(Gode, 5)\n",
    "\n",
    "Gode.add_child(Dollo, 17)\n",
    "Gode.add_child(Mokadisho, 22)\n",
    "\n",
    "Sofoumer.add_child(Bale, 22)\n",
    "Sofoumer.add_child(Goba, 6)\n",
    "Sofoumer.add_child(Gode, 23 )\n",
    "\n",
    "Goba.add_child(Bale, 18)\n",
    "\n",
    "Bale.add_child(Dodolla, 13) \n",
    "Bale.add_child(Liben, 11)\n",
    "\n",
    "Dodolla.add_child(Assesa, 1)\n",
    "Dodolla.add_child(Shashemene, 3)\n",
    "\n",
    "Assesa.add_child(Assela, 4)\n",
    "\n",
    "Shashemene.add_child(Hawassa, 1)\n",
    "Shashemene.add_child(Hossana, 7)\n",
    "\n",
    "Hawassa.add_child(Dilla, 3)\n",
    "\n",
    "Bulehora.add_child(Yabello, 3)\n",
    "Bulehora.add_child(Dilla, 4)\n",
    "\n",
    "Yabello.add_child(Konso, 3)\n",
    "Yabello.add_child(Moyale, 6)\n",
    "\n",
    "Moyale.add_child(Nirobi, 22)\n",
    "Konso.add_child(Arbaminch, 4)\n",
    "Arbaminch.add_child(Basketo, 10)\n",
    "Basketo.add_child(BenchMaji, 5)\n",
    "BenchMaji.add_child(Juba, 22)\n",
    "Dawro.add_child(Bonga, 10)\n",
    "\n",
    "Bonga.add_child(Jimma, 4)\n",
    "Bonga.add_child(MezanTeferi, 4)\n",
    "Bonga.add_child(Tepi, 8)\n",
    "\n",
    "Jimma.add_child(Bedelle, 7)\n",
    "Gore.add_child(Bedelle, 6 )\n",
    "Tepi.add_child(MezanTeferi, 4)\n",
    "Gambella.add_child(Gore, 5)\n",
    "Hossana.add_child(WoilataSodo, 4) \n",
    "WoilataSodo.add_child(Dawro, 6)\n",
    "\n",
    "\n",
    "\n",
    "\n"
   ]
  },
  {
   "cell_type": "markdown",
   "metadata": {},
   "source": [
    "take a look"
   ]
  },
  {
   "cell_type": "code",
   "execution_count": 4,
   "metadata": {
    "scrolled": true
   },
   "outputs": [
    {
     "name": "stdout",
     "output_type": "stream",
     "text": [
      "AA -> [3: Adama, 5: Ambo, 5: Debrebirhan]\n",
      "Debrebirhan -> [2: Debresina, 2: Debresina]\n",
      "Debresina -> [6: Kemise]\n",
      "Kemise -> [6: Debresina, 4: Dessie]\n",
      "Dessie -> [6: Woldia]\n",
      "Woldia -> [6: Dessie, 3: Alamata, 8: Samara]\n",
      "Lalibela -> [8: Debretabor, 7: Woldia]\n"
     ]
    }
   ],
   "source": [
    "_ = [print(node) for node in [AA, Debrebirhan, Debresina, Kemise, Dessie,Woldia, Lalibela]]"
   ]
  },
  {
   "cell_type": "markdown",
   "metadata": {},
   "source": [
    "```\n",
    "UCS(root):\n",
    "    Insert the root into the queue\n",
    "    While the queue is not empty\n",
    "          Dequeue the maximum priority element from the queue\n",
    "          (If priorities are same, alphabetically smaller path is chosen)\n",
    "          If the path is ending in the goal state, print the path and exit\n",
    "          Else\n",
    "                Insert all the children of the dequeued element, with the cumulative costs as priority\n",
    "```"
   ]
  },
  {
   "cell_type": "code",
   "execution_count": 5,
   "metadata": {},
   "outputs": [],
   "source": [
    "from queue import PriorityQueue\n",
    "\n",
    "\n",
    "def ucs(root, goal):\n",
    "    \"\"\"\n",
    "    Return the uniform cost search path from root to goal.\n",
    "    \n",
    "    Args:\n",
    "        root: the starting node for the search\n",
    "        goal: the goal node for the search\n",
    "        \n",
    "    Returns: a list with the path from root to goal\n",
    "    \n",
    "    Raises: ValueError if goal isn't in the graph\n",
    "    \"\"\"\n",
    "    # create a priority queue of paths\n",
    "    queue = PriorityQueue()\n",
    "    queue.put((0, [root]))\n",
    "    # iterate over the items in the queue\n",
    "    while not queue.empty():\n",
    "        # get the highest priority item\n",
    "        pair = queue.get()\n",
    "        current = pair[1][-1]\n",
    "        # if it's the goal, return\n",
    "        if current.label == goal:\n",
    "            return pair[1]\n",
    "        # add all the edges to the priority queue\n",
    "        for edge in current.children:\n",
    "            # create a new path with the node from the edge\n",
    "            new_path = list(pair[1])\n",
    "            new_path.append(edge.destination)\n",
    "            # append the new path to the queue with the edges priority\n",
    "            queue.put((pair[0] + edge.cost, new_path))"
   ]
  },
  {
   "cell_type": "code",
   "execution_count": 6,
   "metadata": {
    "scrolled": true
   },
   "outputs": [
    {
     "data": {
      "text/plain": [
       "[AA -> [3: Adama, 5: Ambo, 5: Debrebirhan],\n",
       " Debrebirhan -> [2: Debresina, 2: Debresina],\n",
       " Debresina -> [6: Kemise],\n",
       " Kemise -> [6: Debresina, 4: Dessie],\n",
       " Dessie -> [6: Woldia],\n",
       " Woldia -> [6: Dessie, 3: Alamata, 8: Samara],\n",
       " Alamata -> [11: Samara, 3: Woldia, 11: Samara, 6: Sekota],\n",
       " Sekota -> [6: Lalibela, 6: Alamata],\n",
       " Lalibela -> [8: Debretabor, 7: Woldia]]"
      ]
     },
     "execution_count": 6,
     "metadata": {},
     "output_type": "execute_result"
    }
   ],
   "source": [
    "ucs(AA,'Lalibela')"
   ]
  },
  {
   "cell_type": "code",
   "execution_count": 10,
   "metadata": {},
   "outputs": [
    {
     "data": {
      "text/plain": [
       "[AA -> [3: Adama, 5: Ambo, 5: Debrebirhan],\n",
       " Debrebirhan -> [2: Debresina, 2: Debresina],\n",
       " Debresina -> [6: Kemise],\n",
       " Kemise -> [6: Debresina, 4: Dessie],\n",
       " Dessie -> [6: Woldia],\n",
       " Woldia -> [6: Dessie, 3: Alamata, 8: Samara],\n",
       " Alamata -> [11: Samara, 3: Woldia, 11: Samara, 6: Sekota],\n",
       " Sekota -> [6: Lalibela, 6: Alamata],\n",
       " Lalibela -> [8: Debretabor, 7: Woldia],\n",
       " Debretabor -> [4: Bahirdar],\n",
       " Bahirdar -> [7: Azezo, 4: Injibara, 6: Finoteselam, 4: Debretabor],\n",
       " Azezo -> [1: Gonder, 7: Metema],\n",
       " Gonder -> [7: Metema, 9: Humera, 4: Debarke],\n",
       " Debarke -> [7: Shire],\n",
       " Shire -> [7: Debarke, 2: Axum],\n",
       " Axum -> [1: Adwa, 5: Asmera]]"
      ]
     },
     "execution_count": 10,
     "metadata": {},
     "output_type": "execute_result"
    }
   ],
   "source": [
    "ucs(AA,'Axum')"
   ]
  },
  {
   "cell_type": "code",
   "execution_count": 12,
   "metadata": {},
   "outputs": [
    {
     "data": {
      "text/plain": [
       "[Axum -> [1: Adwa, 5: Asmera],\n",
       " Adwa -> [4: Adigrat, 7: Mekelle],\n",
       " Mekelle -> [9: Sekota, 5: Alamata],\n",
       " Sekota -> [6: Lalibela, 6: Alamata],\n",
       " Lalibela -> [8: Debretabor, 7: Woldia],\n",
       " Debretabor -> [4: Bahirdar],\n",
       " Bahirdar -> [7: Azezo, 4: Injibara, 6: Finoteselam, 4: Debretabor],\n",
       " Azezo -> [1: Gonder, 7: Metema],\n",
       " Gonder -> [7: Metema, 9: Humera, 4: Debarke]]"
      ]
     },
     "execution_count": 12,
     "metadata": {},
     "output_type": "execute_result"
    }
   ],
   "source": [
    "ucs(Axum,'Gonder')"
   ]
  },
  {
   "cell_type": "code",
   "execution_count": 13,
   "metadata": {},
   "outputs": [
    {
     "data": {
      "text/plain": [
       "[Gonder -> [7: Metema, 9: Humera, 4: Debarke],\n",
       " Debarke -> [7: Shire],\n",
       " Shire -> [7: Debarke, 2: Axum],\n",
       " Axum -> [1: Adwa, 5: Asmera],\n",
       " Adwa -> [4: Adigrat, 7: Mekelle],\n",
       " Mekelle -> [9: Sekota, 5: Alamata],\n",
       " Sekota -> [6: Lalibela, 6: Alamata],\n",
       " Lalibela -> [8: Debretabor, 7: Woldia]]"
      ]
     },
     "execution_count": 13,
     "metadata": {},
     "output_type": "execute_result"
    }
   ],
   "source": [
    "ucs(Gonder,'Lalibela')\n"
   ]
  },
  {
   "cell_type": "code",
   "execution_count": 14,
   "metadata": {},
   "outputs": [
    {
     "data": {
      "text/plain": [
       "[Lalibela -> [8: Debretabor, 7: Woldia],\n",
       " Woldia -> [6: Dessie, 3: Alamata, 8: Samara],\n",
       " Samara -> [7: Fantrasu, 9: Gabirasu],\n",
       " Gabirasu -> [5: Awash],\n",
       " Awash -> [1: Matahara, 4: Chiro],\n",
       " Chiro -> [8: Diredawa],\n",
       " Diredawa -> [4: Harar],\n",
       " Harar -> [2: Babile],\n",
       " Babile -> [3: Jigjiga]]"
      ]
     },
     "execution_count": 14,
     "metadata": {},
     "output_type": "execute_result"
    }
   ],
   "source": [
    "ucs(Lalibela,'Babile')"
   ]
  },
  {
   "cell_type": "code",
   "execution_count": null,
   "metadata": {},
   "outputs": [],
   "source": [
    "ucs(Lalibela,'Jimma')"
   ]
  },
  {
   "cell_type": "code",
   "execution_count": 21,
   "metadata": {},
   "outputs": [],
   "source": [
    "ucs(Babile,'Lalibela')"
   ]
  },
  {
   "cell_type": "code",
   "execution_count": null,
   "metadata": {},
   "outputs": [],
   "source": []
  }
 ],
 "metadata": {
  "kernelspec": {
   "display_name": "Python 3",
   "language": "python",
   "name": "python3"
  },
  "language_info": {
   "codemirror_mode": {
    "name": "ipython",
    "version": 3
   },
   "file_extension": ".py",
   "mimetype": "text/x-python",
   "name": "python",
   "nbconvert_exporter": "python",
   "pygments_lexer": "ipython3",
   "version": "3.8.5"
  }
 },
 "nbformat": 4,
 "nbformat_minor": 2
}
