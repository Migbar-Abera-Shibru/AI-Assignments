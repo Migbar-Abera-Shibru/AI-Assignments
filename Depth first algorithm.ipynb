{
 "cells": [
  {
   "cell_type": "code",
   "execution_count": 8,
   "metadata": {},
   "outputs": [],
   "source": [
    "# from queue import Queue\n",
    "\n",
    "adj_list = {\n",
    "    \"Addis Ababa\": [\"Adama\", \"Ambo\", \"Debrebirhan\"],\n",
    "    \"Adama\": [\"Addis Ababa\", \"Batu\", \"Assela\", \"Matahara\"],\n",
    "    \"Batu\": [\"Adama\",\"Butajira\", \"Shashemene\" ],\n",
    "    \"Butajira\": [\"Batu\", \"Worabe\"],\n",
    "    \"Worabe\": [\"Butajira\",\"Welkite\", \"Hossana\"],\n",
    "    \"Welkite\": [\"Worabe\", \"Ambo\", \"Jimma\"],\n",
    "    \"Ambo\": [\"Welkite\", \"Addis Ababa\",\"Nekemte\"],\n",
    "    \"Nekemte\": [\"Ambo\", \"Gimbi\", \"Bedelle\"],\n",
    "    \"Gimbi\": [\"Nekemte\", \"Dembidollo\"],\n",
    "    \"Dembidollo\": [\"Gimbi\", \"Assosa\", \"Gambella\"],\n",
    "    \"Asessa\": [\"Dembidollo\", \"Metekel\"],\n",
    "    \"Metekel\":[\"Asessa\", \"Bahirdar\"],\n",
    "    \"Bahirdar\": [\"Metekel\", \"Azezo\", \"Injibara\", \"Finoteselam\", \"Debretabor\"],\n",
    "    \"Azezo\": [ \"Bahirdar\", \"Gonder\",\"Metema\"],\n",
    "    \"Gonder\": [\"Azezo\", \"Metema\", \"Humera\", \"Debarke\"],\n",
    "    \"Metema\":[\"Gonder\", \"Azezo\", \"Kartum\"],\n",
    "    \"Kartum\":[\"Metema\",\"Humera\"],\n",
    "    \"Humera\":[\"Kartum\",\"Shire\", \"Gonder\"],\n",
    "    \"Shire\": [\"Humera\", \"Debarke\", \"Axum\"],\n",
    "    \"Debarke\":[\"Shire\",\"Gonder\"],\n",
    "    \"Axum\":[\"Shire\", \"Adwa\", \"Asmara\"],\n",
    "    \"Adwa\":[\"Axum\",\"Adigrat\",\"Mekelle\"],\n",
    "    \"Adigrat\": [\"Adwa\",\"Asmara\", \"Mekelle\"],\n",
    "    \"Asmara\": [\"Axum\", \"Adigrat\"],\n",
    "    \"Mekelle\": [\"Adwa\", \"Adigrat\",\"Sekota\",\"Alamata\"],\n",
    "    \"Sekota\": [ \"Mekelle\", \"Lalibela\", \"Alamata\"],\n",
    "    \"Lalibela\": [\"Sekota\", \"Debretabor\",\"Woldia\"],\n",
    "    \"Alamata\": [\"Sekota\",\"Mekelle\", \"Samara\", \"Woldia\"],\n",
    "    \"Debretabor\":[\"Lalibela\",\"Bahirdar\"],\n",
    "    \"Bahirdar\":[\"Metekel\",\"Injibara\", \"Azezo\",\"Finoteselam\", \"Debretabor\"],\n",
    "    \"Injibara\": [\"Bahirdar\",\"Finoteselam\"],\n",
    "    \"Finoteselam\":[\"Injibara\",\"Bahirdar\",\"Debremarkos\"],\n",
    "    \"Debremarkos\":[\"Finoteselam\",\"Debresina\"],\n",
    "    \"Debresina\":[\"Debremarkos\",\"Debrebirhan\",\"Kemise\"],\n",
    "    \"Debrebirhan\":[\"Debresina\",\"Addis Ababa\"],\n",
    "    \"Kemise\":[\"Debresina\",\"Dessie\"],\n",
    "    \"Dessie\":[\"Kemise\",\"Woldia\"],\n",
    "    \"Woldia\":[\"Dessie\",\"Lalibela\",\"Alamata\",\"Samara\"],\n",
    "    \"Alamata\":[\"Woldia\",\"Samara\",\"Sekota\",\"Mekelle\"],\n",
    "    \"Samara\":[\"Alamata\",\"Fantrasu\",\"Woldia\",\"Gabirasu\"],\n",
    "    \"Fantrasu\":[\"Samara\",\"Killbetrasu\"],\n",
    "    \"Killbetrasu\":[\"Fantrasu\"],\n",
    "    \"Gabirasu\":[\"Samara\",\"Awash\"],\n",
    "    \"Awash\":[\"Gabirasu\",\"Matahara\",\"Chiro\"],\n",
    "    \"Matahara\":[\"Awash\",\"Adama\"],\n",
    "    \"Chiro\":[\"Awash\",\"Diredawa\"],\n",
    "    \"Diredawa\":[\"Chiro\",\"Harar\"],\n",
    "    \"Harar\":[\"Diredawa\",\"Babile\"],\n",
    "    \"Babile\":[\"Harar\",\"Jigjiga\"],\n",
    "    \"Jigjiga\":[\"Babile\",\"Degahabur\"],\n",
    "    \"Degahabur\":[\"Jigjiga\",\"Goba\",\"Kebridahar\"],\n",
    "    \"Kebridahar\":[\"Degahabur\",\"Sofoumer\",\"Werder\",\"Gode\"],\n",
    "    \"Werder\":[\"Kebridahar\"],\n",
    "    \"Gode\":[\"Kebridahar\",\"Dollo\",\"Mokadisho\"],\n",
    "    \"Dollo\":[\"Gode\"],\n",
    "    \"Mokadisho\":[\"Gode\"],\n",
    "    \"Sofoumer\":[\"Kebridahar\",\"Bale\",\"Goba\"],\n",
    "    \"Goba\":[\"Sofoumer\",\"Bale\",\"Degahabur\"],\n",
    "    \"Bale\":[\"Goba\",\"Sofoumer\",\"Dodolla\",\"Liber\"],\n",
    "    \"Liber\":[\"Bale\"],\n",
    "    \"Dodolla\":[\"Bale\",\"Assesa\",\"Shashemene\"],\n",
    "    \"Assesa\": [\"Dodolla\", \"Assela\"],\n",
    "    \"Assela\":[\"Assesa\",\"Adama\"],\n",
    "    \"Shashemene\":[\"Dodolla\",\"Batu\",\"Hawassa\",\"Hossana\"],\n",
    "    \"Hawassa\":[\"Shashemene\",\"Dilla\"],\n",
    "    \"Dilla\":[\"Hawassa\",\"Bulehora\"],\n",
    "    \"Bulehora\":[\"Yabello\",\"Dilla\"],\n",
    "    \"Yabello\":[\"Bulehora\",\"Konso\",\"Moyale\"],\n",
    "    \"Moyale\":[\"Yabello\",\"Nirobi\"],\n",
    "    \"Nirobi\":[\"Moyale\"],\n",
    "    \"Konso\":[\"Yabello\",\"Arbaminch\"],\n",
    "    \"Arbaminch\":[\"Konso\",\"Basketo\",\"Woilata Sodo\"],\n",
    "    \"Basketo\":[\"Arbaminch\",\"Bench Maji\",\"Dawro\",\"Mezan Teferi\"],\n",
    "    \"Bench Maji\":[\"Basketo\",\"Juba\"],\n",
    "    \"Juba\":[\"Bench Maji\"],\n",
    "    \"Dawro\":[\"Basketo\",\"Bonga\",\"Woilata Sodo\"],\n",
    "    \"Bonga\":[\"Dawro\",\"Jimma\",\"Mezan Teferi\",\"Tepi\"],\n",
    "    \"Jimma\":[\"Bonga\",\"Welkite\",\"Bedelle\"],\n",
    "    \"Bedelle\":[\"Jimma\",\"Gore\",\"Nekemte\"],\n",
    "    \"Gore\":[\"Bedelle\",\"Tepi\",\"Gambella\"],\n",
    "    \"Tepi\":[\"Gore\",\"Mezan Teferi\",\"Bonga\"],\n",
    "    \"Mezan Teferi\":[\"Tepi\",\"Bonga\",\"Basketo\"],\n",
    "    \"Gambella\":[\"Gore\",\"Dembidollo\",\"Kemise\"], \n",
    "    \"Dembidollo\": [\"Gimbi\", \"Assesa\", \"Gambella\"],\n",
    "    \"Hossana\":[\"Worabe\", \"Woilata Sodo\",\"Shashemene\"],\n",
    "    \"Woilata Sodo\":[\"Hossana\", \"Dawro\",\"Arbaminch\"]\n",
    "    \n",
    "}"
   ]
  },
  {
   "cell_type": "code",
   "execution_count": 14,
   "metadata": {},
   "outputs": [
    {
     "name": "stdout",
     "output_type": "stream",
     "text": [
      "{'Addis Ababa': 'White', 'Adama': 'White', 'Batu': 'White', 'Butajira': 'White', 'Worabe': 'White', 'Welkite': 'White', 'Ambo': 'White', 'Nekemte': 'White', 'Gimbi': 'White', 'Dembidollo': 'White', 'Asessa': 'White', 'Metekel': 'White', 'Bahirdar': 'White', 'Azezo': 'White', 'Gonder': 'White', 'Metema': 'White', 'Kartum': 'White', 'Humera': 'White', 'Shire': 'White', 'Debarke': 'White', 'Axum': 'White', 'Adwa': 'White', 'Adigrat': 'White', 'Asmara': 'White', 'Mekelle': 'White', 'Sekota': 'White', 'Lalibela': 'White', 'Alamata': 'White', 'Debretabor': 'White', 'Injibara': 'White', 'Finoteselam': 'White', 'Debremarkos': 'White', 'Debresina': 'White', 'Debrebirhan': 'White', 'Kemise': 'White', 'Dessie': 'White', 'Woldia': 'White', 'Samara': 'White', 'Fantrasu': 'White', 'Killbetrasu': 'White', 'Gabirasu': 'White', 'Awash': 'White', 'Matahara': 'White', 'Chiro': 'White', 'Diredawa': 'White', 'Harar': 'White', 'Babile': 'White', 'Jigjiga': 'White', 'Degahabur': 'White', 'Kebridahar': 'White', 'Werder': 'White', 'Gode': 'White', 'Dollo': 'White', 'Mokadisho': 'White', 'Sofoumer': 'White', 'Goba': 'White', 'Bale': 'White', 'Liber': 'White', 'Dodolla': 'White', 'Assesa': 'White', 'Assela': 'White', 'Shashemene': 'White', 'Hawassa': 'White', 'Dilla': 'White', 'Bulehora': 'White', 'Yabello': 'White', 'Moyale': 'White', 'Nirobi': 'White', 'Konso': 'White', 'Arbaminch': 'White', 'Basketo': 'White', 'Bench Maji': 'White', 'Juba': 'White', 'Dawro': 'White', 'Bonga': 'White', 'Jimma': 'White', 'Bedelle': 'White', 'Gore': 'White', 'Tepi': 'White', 'Mezan Teferi': 'White', 'Gambella': 'White', 'Hossana': 'White', 'Woilata Sodo': 'White'}\n"
     ]
    }
   ],
   "source": [
    "color ={}\n",
    "parent ={}\n",
    "trav_time ={}\n",
    "dfs_traversal_output=[]\n",
    "\n",
    "#initialize\n",
    "for node in adj_list.keys():\n",
    "    color[node]=\"White\"\n",
    "    parent[node]= None\n",
    "    trav_time[node]= [-1,1]\n",
    "    \n",
    "    \n",
    "print(color)"
   ]
  },
  {
   "cell_type": "code",
   "execution_count": 15,
   "metadata": {},
   "outputs": [
    {
     "name": "stdout",
     "output_type": "stream",
     "text": [
      "{'Addis Ababa': None, 'Adama': None, 'Batu': None, 'Butajira': None, 'Worabe': None, 'Welkite': None, 'Ambo': None, 'Nekemte': None, 'Gimbi': None, 'Dembidollo': None, 'Asessa': None, 'Metekel': None, 'Bahirdar': None, 'Azezo': None, 'Gonder': None, 'Metema': None, 'Kartum': None, 'Humera': None, 'Shire': None, 'Debarke': None, 'Axum': None, 'Adwa': None, 'Adigrat': None, 'Asmara': None, 'Mekelle': None, 'Sekota': None, 'Lalibela': None, 'Alamata': None, 'Debretabor': None, 'Injibara': None, 'Finoteselam': None, 'Debremarkos': None, 'Debresina': None, 'Debrebirhan': None, 'Kemise': None, 'Dessie': None, 'Woldia': None, 'Samara': None, 'Fantrasu': None, 'Killbetrasu': None, 'Gabirasu': None, 'Awash': None, 'Matahara': None, 'Chiro': None, 'Diredawa': None, 'Harar': None, 'Babile': None, 'Jigjiga': None, 'Degahabur': None, 'Kebridahar': None, 'Werder': None, 'Gode': None, 'Dollo': None, 'Mokadisho': None, 'Sofoumer': None, 'Goba': None, 'Bale': None, 'Liber': None, 'Dodolla': None, 'Assesa': None, 'Assela': None, 'Shashemene': None, 'Hawassa': None, 'Dilla': None, 'Bulehora': None, 'Yabello': None, 'Moyale': None, 'Nirobi': None, 'Konso': None, 'Arbaminch': None, 'Basketo': None, 'Bench Maji': None, 'Juba': None, 'Dawro': None, 'Bonga': None, 'Jimma': None, 'Bedelle': None, 'Gore': None, 'Tepi': None, 'Mezan Teferi': None, 'Gambella': None, 'Hossana': None, 'Woilata Sodo': None}\n"
     ]
    }
   ],
   "source": [
    "print(parent)\n"
   ]
  },
  {
   "cell_type": "code",
   "execution_count": 16,
   "metadata": {},
   "outputs": [
    {
     "name": "stdout",
     "output_type": "stream",
     "text": [
      "{'Addis Ababa': [-1, 1], 'Adama': [-1, 1], 'Batu': [-1, 1], 'Butajira': [-1, 1], 'Worabe': [-1, 1], 'Welkite': [-1, 1], 'Ambo': [-1, 1], 'Nekemte': [-1, 1], 'Gimbi': [-1, 1], 'Dembidollo': [-1, 1], 'Asessa': [-1, 1], 'Metekel': [-1, 1], 'Bahirdar': [-1, 1], 'Azezo': [-1, 1], 'Gonder': [-1, 1], 'Metema': [-1, 1], 'Kartum': [-1, 1], 'Humera': [-1, 1], 'Shire': [-1, 1], 'Debarke': [-1, 1], 'Axum': [-1, 1], 'Adwa': [-1, 1], 'Adigrat': [-1, 1], 'Asmara': [-1, 1], 'Mekelle': [-1, 1], 'Sekota': [-1, 1], 'Lalibela': [-1, 1], 'Alamata': [-1, 1], 'Debretabor': [-1, 1], 'Injibara': [-1, 1], 'Finoteselam': [-1, 1], 'Debremarkos': [-1, 1], 'Debresina': [-1, 1], 'Debrebirhan': [-1, 1], 'Kemise': [-1, 1], 'Dessie': [-1, 1], 'Woldia': [-1, 1], 'Samara': [-1, 1], 'Fantrasu': [-1, 1], 'Killbetrasu': [-1, 1], 'Gabirasu': [-1, 1], 'Awash': [-1, 1], 'Matahara': [-1, 1], 'Chiro': [-1, 1], 'Diredawa': [-1, 1], 'Harar': [-1, 1], 'Babile': [-1, 1], 'Jigjiga': [-1, 1], 'Degahabur': [-1, 1], 'Kebridahar': [-1, 1], 'Werder': [-1, 1], 'Gode': [-1, 1], 'Dollo': [-1, 1], 'Mokadisho': [-1, 1], 'Sofoumer': [-1, 1], 'Goba': [-1, 1], 'Bale': [-1, 1], 'Liber': [-1, 1], 'Dodolla': [-1, 1], 'Assesa': [-1, 1], 'Assela': [-1, 1], 'Shashemene': [-1, 1], 'Hawassa': [-1, 1], 'Dilla': [-1, 1], 'Bulehora': [-1, 1], 'Yabello': [-1, 1], 'Moyale': [-1, 1], 'Nirobi': [-1, 1], 'Konso': [-1, 1], 'Arbaminch': [-1, 1], 'Basketo': [-1, 1], 'Bench Maji': [-1, 1], 'Juba': [-1, 1], 'Dawro': [-1, 1], 'Bonga': [-1, 1], 'Jimma': [-1, 1], 'Bedelle': [-1, 1], 'Gore': [-1, 1], 'Tepi': [-1, 1], 'Mezan Teferi': [-1, 1], 'Gambella': [-1, 1], 'Hossana': [-1, 1], 'Woilata Sodo': [-1, 1]}\n"
     ]
    }
   ],
   "source": [
    "print(trav_time)"
   ]
  },
  {
   "cell_type": "code",
   "execution_count": 17,
   "metadata": {},
   "outputs": [
    {
     "name": "stdout",
     "output_type": "stream",
     "text": [
      "['Addis Ababa', 'Adama', 'Batu', 'Butajira', 'Worabe', 'Welkite', 'Ambo', 'Nekemte', 'Gimbi', 'Dembidollo', 'Assesa', 'Dodolla', 'Bale', 'Goba', 'Sofoumer', 'Kebridahar', 'Degahabur', 'Jigjiga', 'Babile', 'Harar', 'Diredawa', 'Chiro', 'Awash', 'Gabirasu', 'Samara', 'Alamata', 'Woldia', 'Dessie', 'Kemise', 'Debresina', 'Debremarkos', 'Finoteselam', 'Injibara', 'Bahirdar', 'Metekel', 'Asessa', 'Azezo', 'Gonder', 'Metema', 'Kartum', 'Humera', 'Shire', 'Debarke', 'Axum', 'Adwa', 'Adigrat', 'Asmara', 'Mekelle', 'Sekota', 'Lalibela', 'Debretabor', 'Debrebirhan', 'Fantrasu', 'Killbetrasu', 'Matahara', 'Werder', 'Gode', 'Dollo', 'Mokadisho', 'Liber', 'Shashemene', 'Hawassa', 'Dilla', 'Bulehora', 'Yabello', 'Konso', 'Arbaminch', 'Basketo', 'Bench Maji', 'Juba', 'Dawro', 'Bonga', 'Jimma', 'Bedelle', 'Gore', 'Tepi', 'Mezan Teferi', 'Gambella', 'Woilata Sodo', 'Hossana', 'Moyale', 'Nirobi', 'Assela']\n"
     ]
    }
   ],
   "source": [
    "time = 0 \n",
    "def dfs_util(u):\n",
    "    global time\n",
    "    color[u]=\"Green\"\n",
    "    trav_time[u][0] = time\n",
    "    dfs_traversal_output.append(u)\n",
    "    \n",
    "    for v in adj_list[u]:\n",
    "        if color[v] == \"White\":\n",
    "            parent[v] = u \n",
    "            dfs_util(v)\n",
    "    color[u] = \"Black\"\n",
    "    trav_time[u][1]=time\n",
    "    time+=1\n",
    "    \n",
    "dfs_util(\"Addis Ababa\")\n",
    "print(dfs_traversal_output)"
   ]
  },
  {
   "cell_type": "code",
   "execution_count": 18,
   "metadata": {},
   "outputs": [
    {
     "name": "stdout",
     "output_type": "stream",
     "text": [
      "{'Addis Ababa': [0, 82], 'Adama': [0, 81], 'Batu': [0, 80], 'Butajira': [0, 79], 'Worabe': [0, 78], 'Welkite': [0, 77], 'Ambo': [0, 76], 'Nekemte': [0, 75], 'Gimbi': [0, 74], 'Dembidollo': [0, 73], 'Asessa': [0, 0], 'Metekel': [0, 1], 'Bahirdar': [0, 17], 'Azezo': [2, 16], 'Gonder': [2, 15], 'Metema': [2, 14], 'Kartum': [2, 13], 'Humera': [2, 12], 'Shire': [2, 11], 'Debarke': [2, 2], 'Axum': [3, 10], 'Adwa': [3, 9], 'Adigrat': [3, 8], 'Asmara': [3, 3], 'Mekelle': [4, 7], 'Sekota': [4, 6], 'Lalibela': [4, 5], 'Alamata': [0, 26], 'Debretabor': [4, 4], 'Injibara': [0, 18], 'Finoteselam': [0, 19], 'Debremarkos': [0, 20], 'Debresina': [0, 22], 'Debrebirhan': [21, 21], 'Kemise': [0, 23], 'Dessie': [0, 24], 'Woldia': [0, 25], 'Samara': [0, 29], 'Fantrasu': [27, 28], 'Killbetrasu': [27, 27], 'Gabirasu': [0, 30], 'Awash': [0, 32], 'Matahara': [31, 31], 'Chiro': [0, 33], 'Diredawa': [0, 34], 'Harar': [0, 35], 'Babile': [0, 36], 'Jigjiga': [0, 37], 'Degahabur': [0, 38], 'Kebridahar': [0, 43], 'Werder': [39, 39], 'Gode': [40, 42], 'Dollo': [40, 40], 'Mokadisho': [41, 41], 'Sofoumer': [0, 44], 'Goba': [0, 45], 'Bale': [0, 47], 'Liber': [46, 46], 'Dodolla': [0, 70], 'Assesa': [0, 72], 'Assela': [71, 71], 'Shashemene': [48, 69], 'Hawassa': [48, 68], 'Dilla': [48, 67], 'Bulehora': [48, 66], 'Yabello': [48, 65], 'Moyale': [63, 64], 'Nirobi': [63, 63], 'Konso': [48, 62], 'Arbaminch': [48, 61], 'Basketo': [48, 60], 'Bench Maji': [48, 49], 'Juba': [48, 48], 'Dawro': [50, 59], 'Bonga': [50, 56], 'Jimma': [50, 55], 'Bedelle': [50, 54], 'Gore': [50, 53], 'Tepi': [50, 51], 'Mezan Teferi': [50, 50], 'Gambella': [52, 52], 'Hossana': [57, 57], 'Woilata Sodo': [57, 58]}\n"
     ]
    }
   ],
   "source": [
    "print(trav_time)"
   ]
  },
  {
   "cell_type": "code",
   "execution_count": 19,
   "metadata": {},
   "outputs": [
    {
     "name": "stdout",
     "output_type": "stream",
     "text": [
      "{'Addis Ababa': None, 'Adama': 'Addis Ababa', 'Batu': 'Adama', 'Butajira': 'Batu', 'Worabe': 'Butajira', 'Welkite': 'Worabe', 'Ambo': 'Welkite', 'Nekemte': 'Ambo', 'Gimbi': 'Nekemte', 'Dembidollo': 'Gimbi', 'Asessa': 'Metekel', 'Metekel': 'Bahirdar', 'Bahirdar': 'Injibara', 'Azezo': 'Bahirdar', 'Gonder': 'Azezo', 'Metema': 'Gonder', 'Kartum': 'Metema', 'Humera': 'Kartum', 'Shire': 'Humera', 'Debarke': 'Shire', 'Axum': 'Shire', 'Adwa': 'Axum', 'Adigrat': 'Adwa', 'Asmara': 'Adigrat', 'Mekelle': 'Adigrat', 'Sekota': 'Mekelle', 'Lalibela': 'Sekota', 'Alamata': 'Samara', 'Debretabor': 'Lalibela', 'Injibara': 'Finoteselam', 'Finoteselam': 'Debremarkos', 'Debremarkos': 'Debresina', 'Debresina': 'Kemise', 'Debrebirhan': 'Debresina', 'Kemise': 'Dessie', 'Dessie': 'Woldia', 'Woldia': 'Alamata', 'Samara': 'Gabirasu', 'Fantrasu': 'Samara', 'Killbetrasu': 'Fantrasu', 'Gabirasu': 'Awash', 'Awash': 'Chiro', 'Matahara': 'Awash', 'Chiro': 'Diredawa', 'Diredawa': 'Harar', 'Harar': 'Babile', 'Babile': 'Jigjiga', 'Jigjiga': 'Degahabur', 'Degahabur': 'Kebridahar', 'Kebridahar': 'Sofoumer', 'Werder': 'Kebridahar', 'Gode': 'Kebridahar', 'Dollo': 'Gode', 'Mokadisho': 'Gode', 'Sofoumer': 'Goba', 'Goba': 'Bale', 'Bale': 'Dodolla', 'Liber': 'Bale', 'Dodolla': 'Assesa', 'Assesa': 'Dembidollo', 'Assela': 'Assesa', 'Shashemene': 'Dodolla', 'Hawassa': 'Shashemene', 'Dilla': 'Hawassa', 'Bulehora': 'Dilla', 'Yabello': 'Bulehora', 'Moyale': 'Yabello', 'Nirobi': 'Moyale', 'Konso': 'Yabello', 'Arbaminch': 'Konso', 'Basketo': 'Arbaminch', 'Bench Maji': 'Basketo', 'Juba': 'Bench Maji', 'Dawro': 'Basketo', 'Bonga': 'Dawro', 'Jimma': 'Bonga', 'Bedelle': 'Jimma', 'Gore': 'Bedelle', 'Tepi': 'Gore', 'Mezan Teferi': 'Tepi', 'Gambella': 'Gore', 'Hossana': 'Woilata Sodo', 'Woilata Sodo': 'Dawro'}\n"
     ]
    }
   ],
   "source": [
    "print(parent)"
   ]
  },
  {
   "cell_type": "code",
   "execution_count": 20,
   "metadata": {},
   "outputs": [
    {
     "name": "stdout",
     "output_type": "stream",
     "text": [
      "Addis Ababa -> [0, 82]\n",
      "Adama -> [0, 81]\n",
      "Batu -> [0, 80]\n",
      "Butajira -> [0, 79]\n",
      "Worabe -> [0, 78]\n",
      "Welkite -> [0, 77]\n",
      "Ambo -> [0, 76]\n",
      "Nekemte -> [0, 75]\n",
      "Gimbi -> [0, 74]\n",
      "Dembidollo -> [0, 73]\n",
      "Asessa -> [0, 0]\n",
      "Metekel -> [0, 1]\n",
      "Bahirdar -> [0, 17]\n",
      "Azezo -> [2, 16]\n",
      "Gonder -> [2, 15]\n",
      "Metema -> [2, 14]\n",
      "Kartum -> [2, 13]\n",
      "Humera -> [2, 12]\n",
      "Shire -> [2, 11]\n",
      "Debarke -> [2, 2]\n",
      "Axum -> [3, 10]\n",
      "Adwa -> [3, 9]\n",
      "Adigrat -> [3, 8]\n",
      "Asmara -> [3, 3]\n",
      "Mekelle -> [4, 7]\n",
      "Sekota -> [4, 6]\n",
      "Lalibela -> [4, 5]\n",
      "Alamata -> [0, 26]\n",
      "Debretabor -> [4, 4]\n",
      "Injibara -> [0, 18]\n",
      "Finoteselam -> [0, 19]\n",
      "Debremarkos -> [0, 20]\n",
      "Debresina -> [0, 22]\n",
      "Debrebirhan -> [21, 21]\n",
      "Kemise -> [0, 23]\n",
      "Dessie -> [0, 24]\n",
      "Woldia -> [0, 25]\n",
      "Samara -> [0, 29]\n",
      "Fantrasu -> [27, 28]\n",
      "Killbetrasu -> [27, 27]\n",
      "Gabirasu -> [0, 30]\n",
      "Awash -> [0, 32]\n",
      "Matahara -> [31, 31]\n",
      "Chiro -> [0, 33]\n",
      "Diredawa -> [0, 34]\n",
      "Harar -> [0, 35]\n",
      "Babile -> [0, 36]\n",
      "Jigjiga -> [0, 37]\n",
      "Degahabur -> [0, 38]\n",
      "Kebridahar -> [0, 43]\n",
      "Werder -> [39, 39]\n",
      "Gode -> [40, 42]\n",
      "Dollo -> [40, 40]\n",
      "Mokadisho -> [41, 41]\n",
      "Sofoumer -> [0, 44]\n",
      "Goba -> [0, 45]\n",
      "Bale -> [0, 47]\n",
      "Liber -> [46, 46]\n",
      "Dodolla -> [0, 70]\n",
      "Assesa -> [0, 72]\n",
      "Assela -> [71, 71]\n",
      "Shashemene -> [48, 69]\n",
      "Hawassa -> [48, 68]\n",
      "Dilla -> [48, 67]\n",
      "Bulehora -> [48, 66]\n",
      "Yabello -> [48, 65]\n",
      "Moyale -> [63, 64]\n",
      "Nirobi -> [63, 63]\n",
      "Konso -> [48, 62]\n",
      "Arbaminch -> [48, 61]\n",
      "Basketo -> [48, 60]\n",
      "Bench Maji -> [48, 49]\n",
      "Juba -> [48, 48]\n",
      "Dawro -> [50, 59]\n",
      "Bonga -> [50, 56]\n",
      "Jimma -> [50, 55]\n",
      "Bedelle -> [50, 54]\n",
      "Gore -> [50, 53]\n",
      "Tepi -> [50, 51]\n",
      "Mezan Teferi -> [50, 50]\n",
      "Gambella -> [52, 52]\n",
      "Hossana -> [57, 57]\n",
      "Woilata Sodo -> [57, 58]\n"
     ]
    }
   ],
   "source": [
    "for node in adj_list.keys():\n",
    "    print(node, \"->\",trav_time[node])\n"
   ]
  },
  {
   "cell_type": "code",
   "execution_count": 21,
   "metadata": {},
   "outputs": [
    {
     "name": "stdout",
     "output_type": "stream",
     "text": [
      "['Addis Ababa', 'Adama', 'Batu', 'Butajira', 'Worabe', 'Welkite', 'Ambo', 'Nekemte', 'Gimbi', 'Dembidollo', 'Assesa', 'Dodolla', 'Bale', 'Goba', 'Sofoumer', 'Kebridahar', 'Degahabur', 'Jigjiga', 'Babile', 'Harar', 'Diredawa', 'Chiro', 'Awash', 'Gabirasu', 'Samara', 'Alamata', 'Woldia', 'Dessie', 'Kemise', 'Debresina', 'Debremarkos', 'Finoteselam', 'Injibara', 'Bahirdar', 'Metekel', 'Asessa', 'Azezo', 'Gonder', 'Metema', 'Kartum', 'Humera', 'Shire', 'Debarke', 'Axum', 'Adwa', 'Adigrat', 'Asmara', 'Mekelle', 'Sekota', 'Lalibela', 'Debretabor', 'Debrebirhan', 'Fantrasu', 'Killbetrasu', 'Matahara', 'Werder', 'Gode', 'Dollo', 'Mokadisho', 'Liber', 'Shashemene', 'Hawassa', 'Dilla', 'Bulehora', 'Yabello', 'Konso', 'Arbaminch', 'Basketo', 'Bench Maji', 'Juba', 'Dawro', 'Bonga', 'Jimma', 'Bedelle', 'Gore', 'Tepi', 'Mezan Teferi', 'Gambella', 'Woilata Sodo', 'Hossana', 'Moyale', 'Nirobi', 'Assela']\n",
      "{'Addis Ababa': None, 'Adama': 'Addis Ababa', 'Batu': 'Adama', 'Butajira': 'Batu', 'Worabe': 'Butajira', 'Welkite': 'Worabe', 'Ambo': 'Welkite', 'Nekemte': 'Ambo', 'Gimbi': 'Nekemte', 'Dembidollo': 'Gimbi', 'Asessa': 'Metekel', 'Metekel': 'Bahirdar', 'Bahirdar': 'Injibara', 'Azezo': 'Bahirdar', 'Gonder': 'Azezo', 'Metema': 'Gonder', 'Kartum': 'Metema', 'Humera': 'Kartum', 'Shire': 'Humera', 'Debarke': 'Shire', 'Axum': 'Shire', 'Adwa': 'Axum', 'Adigrat': 'Adwa', 'Asmara': 'Adigrat', 'Mekelle': 'Adigrat', 'Sekota': 'Mekelle', 'Lalibela': 'Sekota', 'Alamata': 'Samara', 'Debretabor': 'Lalibela', 'Injibara': 'Finoteselam', 'Finoteselam': 'Debremarkos', 'Debremarkos': 'Debresina', 'Debresina': 'Kemise', 'Debrebirhan': 'Debresina', 'Kemise': 'Dessie', 'Dessie': 'Woldia', 'Woldia': 'Alamata', 'Samara': 'Gabirasu', 'Fantrasu': 'Samara', 'Killbetrasu': 'Fantrasu', 'Gabirasu': 'Awash', 'Awash': 'Chiro', 'Matahara': 'Awash', 'Chiro': 'Diredawa', 'Diredawa': 'Harar', 'Harar': 'Babile', 'Babile': 'Jigjiga', 'Jigjiga': 'Degahabur', 'Degahabur': 'Kebridahar', 'Kebridahar': 'Sofoumer', 'Werder': 'Kebridahar', 'Gode': 'Kebridahar', 'Dollo': 'Gode', 'Mokadisho': 'Gode', 'Sofoumer': 'Goba', 'Goba': 'Bale', 'Bale': 'Dodolla', 'Liber': 'Bale', 'Dodolla': 'Assesa', 'Assesa': 'Dembidollo', 'Assela': 'Assesa', 'Shashemene': 'Dodolla', 'Hawassa': 'Shashemene', 'Dilla': 'Hawassa', 'Bulehora': 'Dilla', 'Yabello': 'Bulehora', 'Moyale': 'Yabello', 'Nirobi': 'Moyale', 'Konso': 'Yabello', 'Arbaminch': 'Konso', 'Basketo': 'Arbaminch', 'Bench Maji': 'Basketo', 'Juba': 'Bench Maji', 'Dawro': 'Basketo', 'Bonga': 'Dawro', 'Jimma': 'Bonga', 'Bedelle': 'Jimma', 'Gore': 'Bedelle', 'Tepi': 'Gore', 'Mezan Teferi': 'Tepi', 'Gambella': 'Gore', 'Hossana': 'Woilata Sodo', 'Woilata Sodo': 'Dawro'}\n",
      "{'Addis Ababa': [0, 82], 'Adama': [0, 81], 'Batu': [0, 80], 'Butajira': [0, 79], 'Worabe': [0, 78], 'Welkite': [0, 77], 'Ambo': [0, 76], 'Nekemte': [0, 75], 'Gimbi': [0, 74], 'Dembidollo': [0, 73], 'Asessa': [0, 0], 'Metekel': [0, 1], 'Bahirdar': [0, 17], 'Azezo': [2, 16], 'Gonder': [2, 15], 'Metema': [2, 14], 'Kartum': [2, 13], 'Humera': [2, 12], 'Shire': [2, 11], 'Debarke': [2, 2], 'Axum': [3, 10], 'Adwa': [3, 9], 'Adigrat': [3, 8], 'Asmara': [3, 3], 'Mekelle': [4, 7], 'Sekota': [4, 6], 'Lalibela': [4, 5], 'Alamata': [0, 26], 'Debretabor': [4, 4], 'Injibara': [0, 18], 'Finoteselam': [0, 19], 'Debremarkos': [0, 20], 'Debresina': [0, 22], 'Debrebirhan': [21, 21], 'Kemise': [0, 23], 'Dessie': [0, 24], 'Woldia': [0, 25], 'Samara': [0, 29], 'Fantrasu': [27, 28], 'Killbetrasu': [27, 27], 'Gabirasu': [0, 30], 'Awash': [0, 32], 'Matahara': [31, 31], 'Chiro': [0, 33], 'Diredawa': [0, 34], 'Harar': [0, 35], 'Babile': [0, 36], 'Jigjiga': [0, 37], 'Degahabur': [0, 38], 'Kebridahar': [0, 43], 'Werder': [39, 39], 'Gode': [40, 42], 'Dollo': [40, 40], 'Mokadisho': [41, 41], 'Sofoumer': [0, 44], 'Goba': [0, 45], 'Bale': [0, 47], 'Liber': [46, 46], 'Dodolla': [0, 70], 'Assesa': [0, 72], 'Assela': [71, 71], 'Shashemene': [48, 69], 'Hawassa': [48, 68], 'Dilla': [48, 67], 'Bulehora': [48, 66], 'Yabello': [48, 65], 'Moyale': [63, 64], 'Nirobi': [63, 63], 'Konso': [48, 62], 'Arbaminch': [48, 61], 'Basketo': [48, 60], 'Bench Maji': [48, 49], 'Juba': [48, 48], 'Dawro': [50, 59], 'Bonga': [50, 56], 'Jimma': [50, 55], 'Bedelle': [50, 54], 'Gore': [50, 53], 'Tepi': [50, 51], 'Mezan Teferi': [50, 50], 'Gambella': [52, 52], 'Hossana': [57, 57], 'Woilata Sodo': [57, 58]}\n"
     ]
    }
   ],
   "source": [
    "for u in adj_list.keys():\n",
    "    if color[u] ==\"White\":\n",
    "        dfs_util(u)\n",
    "print(dfs_traversal_output)\n",
    "print(parent)\n",
    "print(trav_time)\n"
   ]
  },
  {
   "cell_type": "code",
   "execution_count": null,
   "metadata": {},
   "outputs": [],
   "source": []
  }
 ],
 "metadata": {
  "kernelspec": {
   "display_name": "Python 3",
   "language": "python",
   "name": "python3"
  },
  "language_info": {
   "codemirror_mode": {
    "name": "ipython",
    "version": 3
   },
   "file_extension": ".py",
   "mimetype": "text/x-python",
   "name": "python",
   "nbconvert_exporter": "python",
   "pygments_lexer": "ipython3",
   "version": "3.8.5"
  }
 },
 "nbformat": 4,
 "nbformat_minor": 4
}
