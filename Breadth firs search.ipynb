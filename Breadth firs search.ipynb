{
 "cells": [
  {
   "cell_type": "code",
   "execution_count": 46,
   "metadata": {},
   "outputs": [],
   "source": [
    "from queue import Queue\n",
    "\n",
    "adj_list = {\n",
    "    \"Addis Ababa\": [\"Adama\", \"Ambo\", \"Debrebirhan\"],\n",
    "    \"Adama\": [\"Addis Ababa\", \"Batu\", \"Assela\", \"Matahara\"],\n",
    "    \"Batu\": [\"Adama\",\"Butajira\", \"Shashemene\" ],\n",
    "    \"Butajira\": [\"Batu\", \"Worabe\"],\n",
    "    \"Worabe\": [\"Butajira\",\"Welkite\", \"Hossana\"],\n",
    "    \"Welkite\": [\"Worabe\", \"Ambo\", \"Jimma\"],\n",
    "    \"Ambo\": [\"Welkite\", \"Addis Ababa\",\"Nekemte\"],\n",
    "    \"Nekemte\": [\"Ambo\", \"Gimbi\", \"Bedelle\"],\n",
    "    \"Gimbi\": [\"Nekemte\", \"Dembidollo\"],\n",
    "    \"Dembidollo\": [\"Gimbi\", \"Assosa\", \"Gambella\"],\n",
    "    \"Asessa\": [\"Dembidollo\", \"Metekel\"],\n",
    "    \"Metekel\":[\"Asessa\", \"Bahirdar\"],\n",
    "    \"Bahirdar\": [\"Metekel\", \"Azezo\", \"Injibara\", \"Finoteselam\", \"Debretabor\"],\n",
    "    \"Azezo\": [ \"Bahirdar\", \"Gonder\",\"Metema\"],\n",
    "    \"Gonder\": [\"Azezo\", \"Metema\", \"Humera\", \"Debarke\"],\n",
    "    \"Metema\":[\"Gonder\", \"Azezo\", \"Kartum\"],\n",
    "    \"Kartum\":[\"Metema\",\"Humera\"],\n",
    "    \"Humera\":[\"Kartum\",\"Shire\", \"Gonder\"],\n",
    "    \"Shire\": [\"Humera\", \"Debarke\", \"Axum\"],\n",
    "    \"Debarke\":[\"Shire\",\"Gonder\"],\n",
    "    \"Axum\":[\"Shire\", \"Adwa\", \"Asmara\"],\n",
    "    \"Adwa\":[\"Axum\",\"Adigrat\",\"Mekelle\"],\n",
    "    \"Adigrat\": [\"Adwa\",\"Asmara\", \"Mekelle\"],\n",
    "    \"Asmara\": [\"Axum\", \"Adigrat\"],\n",
    "    \"Mekelle\": [\"Adwa\", \"Adigrat\",\"Sekota\",\"Alamata\"],\n",
    "    \"Sekota\": [ \"Mekelle\", \"Lalibela\", \"Alamata\"],\n",
    "    \"Lalibela\": [\"Sekota\", \"Debretabor\",\"Woldia\"],\n",
    "    \"Alamata\": [\"Sekota\",\"Mekelle\", \"Samara\", \"Woldia\"],\n",
    "    \"Debretabor\":[\"Lalibela\",\"Bahirdar\"],\n",
    "    \"Bahirdar\":[\"Metekel\",\"Injibara\", \"Azezo\",\"Finoteselam\", \"Debretabor\"],\n",
    "    \"Injibara\": [\"Bahirdar\",\"Finoteselam\"],\n",
    "    \"Finoteselam\":[\"Injibara\",\"Bahirdar\",\"Debremarkos\"],\n",
    "    \"Debremarkos\":[\"Finoteselam\",\"Debresina\"],\n",
    "    \"Debresina\":[\"Debremarkos\",\"Debrebirhan\",\"Kemise\"],\n",
    "    \"Debrebirhan\":[\"Debresina\",\"Addis Ababa\"],\n",
    "    \"Kemise\":[\"Debresina\",\"Dessie\"],\n",
    "    \"Dessie\":[\"Kemise\",\"Woldia\"],\n",
    "    \"Woldia\":[\"Dessie\",\"Lalibela\",\"Alamata\",\"Samara\"],\n",
    "    \"Alamata\":[\"Woldia\",\"Samara\",\"Sekota\",\"Mekelle\"],\n",
    "    \"Samara\":[\"Alamata\",\"Fantrasu\",\"Woldia\",\"Gabirasu\"],\n",
    "    \"Fantrasu\":[\"Samara\",\"Killbetrasu\"],\n",
    "    \"Killbetrasu\":[\"Fantrasu\"],\n",
    "    \"Gabirasu\":[\"Samara\",\"Awash\"],\n",
    "    \"Awash\":[\"Gabirasu\",\"Matahara\",\"Chiro\"],\n",
    "    \"Matahara\":[\"Awash\",\"Adama\"],\n",
    "    \"Chiro\":[\"Awash\",\"Diredawa\"],\n",
    "    \"Diredawa\":[\"Chiro\",\"Harar\"],\n",
    "    \"Harar\":[\"Diredawa\",\"Babile\"],\n",
    "    \"Babile\":[\"Harar\",\"Jigjiga\"],\n",
    "    \"Jigjiga\":[\"Babile\",\"Degahabur\"],\n",
    "    \"Degahabur\":[\"Jigjiga\",\"Goba\",\"Kebridahar\"],\n",
    "    \"Kebridahar\":[\"Degahabur\",\"Sofoumer\",\"Werder\",\"Gode\"],\n",
    "    \"Werder\":[\"Kebridahar\"],\n",
    "    \"Gode\":[\"Kebridahar\",\"Dollo\",\"Mokadisho\"],\n",
    "    \"Dollo\":[\"Gode\"],\n",
    "    \"Mokadisho\":[\"Gode\"],\n",
    "    \"Sofoumer\":[\"Kebridahar\",\"Bale\",\"Goba\"],\n",
    "    \"Goba\":[\"Sofoumer\",\"Bale\",\"Degahabur\"],\n",
    "    \"Bale\":[\"Goba\",\"Sofoumer\",\"Dodolla\",\"Liber\"],\n",
    "    \"Liber\":[\"Bale\"],\n",
    "    \"Dodolla\":[\"Bale\",\"Assesa\",\"Shashemene\"],\n",
    "    \"Assesa\": [\"Dodolla\", \"Assela\"],\n",
    "    \"Assela\":[\"Assesa\",\"Adama\"],\n",
    "    \"Shashemene\":[\"Dodolla\",\"Batu\",\"Hawassa\",\"Hossana\"],\n",
    "    \"Hawassa\":[\"Shashemene\",\"Dilla\"],\n",
    "    \"Dilla\":[\"Hawassa\",\"Bulehora\"],\n",
    "    \"Bulehora\":[\"Yabello\",\"Dilla\"],\n",
    "    \"Yabello\":[\"Bulehora\",\"Konso\",\"Moyale\"],\n",
    "    \"Moyale\":[\"Yabello\",\"Nirobi\"],\n",
    "    \"Nirobi\":[\"Moyale\"],\n",
    "    \"Konso\":[\"Yabello\",\"Arbaminch\"],\n",
    "    \"Arbaminch\":[\"Konso\",\"Basketo\",\"Woilata Sodo\"],\n",
    "    \"Basketo\":[\"Arbaminch\",\"Bench Maji\",\"Dawro\",\"Mezan Teferi\"],\n",
    "    \"Bench Maji\":[\"Basketo\",\"Juba\"],\n",
    "    \"Juba\":[\"Bench Maji\"],\n",
    "    \"Dawro\":[\"Basketo\",\"Bonga\",\"Woilata Sodo\"],\n",
    "    \"Bonga\":[\"Dawro\",\"Jimma\",\"Mezan Teferi\",\"Tepi\"],\n",
    "    \"Jimma\":[\"Bonga\",\"Welkite\",\"Bedelle\"],\n",
    "    \"Bedelle\":[\"Jimma\",\"Gore\",\"Nekemte\"],\n",
    "    \"Gore\":[\"Bedelle\",\"Tepi\",\"Gambella\"],\n",
    "    \"Tepi\":[\"Gore\",\"Mezan Teferi\",\"Bonga\"],\n",
    "    \"Mezan Teferi\":[\"Tepi\",\"Bonga\",\"Basketo\"],\n",
    "    \"Gambella\":[\"Gore\",\"Dembidollo\",\"Kemise\"], \n",
    "    \"Dembidollo\": [\"Gimbi\", \"Assesa\", \"Gambella\"],\n",
    "    \"Hossana\":[\"Worabe\", \"Woilata Sodo\",\"Shashemene\"],\n",
    "    \"Woilata Sodo\":[\"Hossana\", \"Dawro\",\"Arbaminch\"]\n",
    "    \n",
    "}"
   ]
  },
  {
   "cell_type": "code",
   "execution_count": 48,
   "metadata": {},
   "outputs": [
    {
     "name": "stdout",
     "output_type": "stream",
     "text": [
      "{'Addis Ababa': False, 'Adama': False, 'Batu': False, 'Butajira': False, 'Worabe': False, 'Welkite': False, 'Ambo': False, 'Nekemte': False, 'Gimbi': False, 'Dembidollo': False, 'Asessa': False, 'Metekel': False, 'Bahirdar': False, 'Azezo': False, 'Gonder': False, 'Metema': False, 'Kartum': False, 'Humera': False, 'Shire': False, 'Debarke': False, 'Axum': False, 'Adwa': False, 'Adigrat': False, 'Asmara': False, 'Mekelle': False, 'Sekota': False, 'Lalibela': False, 'Alamata': False, 'Debretabor': False, 'Injibara': False, 'Finoteselam': False, 'Debremarkos': False, 'Debresina': False, 'Debrebirhan': False, 'Kemise': False, 'Dessie': False, 'Woldia': False, 'Samara': False, 'Fantrasu': False, 'Killbetrasu': False, 'Gabirasu': False, 'Awash': False, 'Matahara': False, 'Chiro': False, 'Diredawa': False, 'Harar': False, 'Babile': False, 'Jigjiga': False, 'Degahabur': False, 'Kebridahar': False, 'Werder': False, 'Gode': False, 'Dollo': False, 'Mokadisho': False, 'Sofoumer': False, 'Goba': False, 'Bale': False, 'Liber': False, 'Dodolla': False, 'Assesa': False, 'Assela': False, 'Shashemene': False, 'Hawassa': False, 'Dilla': False, 'Bulehora': False, 'Yabello': False, 'Moyale': False, 'Nirobi': False, 'Konso': False, 'Arbaminch': False, 'Basketo': False, 'Bench Maji': False, 'Juba': False, 'Dawro': False, 'Bonga': False, 'Jimma': False, 'Bedelle': False, 'Gore': False, 'Tepi': False, 'Mezan Teferi': False, 'Gambella': False, 'Hossana': False, 'Woilata Sodo': False}\n",
      "{'Addis Ababa': -1, 'Adama': -1, 'Batu': -1, 'Butajira': -1, 'Worabe': -1, 'Welkite': -1, 'Ambo': -1, 'Nekemte': -1, 'Gimbi': -1, 'Dembidollo': -1, 'Asessa': -1, 'Metekel': -1, 'Bahirdar': -1, 'Azezo': -1, 'Gonder': -1, 'Metema': -1, 'Kartum': -1, 'Humera': -1, 'Shire': -1, 'Debarke': -1, 'Axum': -1, 'Adwa': -1, 'Adigrat': -1, 'Asmara': -1, 'Mekelle': -1, 'Sekota': -1, 'Lalibela': -1, 'Alamata': -1, 'Debretabor': -1, 'Injibara': -1, 'Finoteselam': -1, 'Debremarkos': -1, 'Debresina': -1, 'Debrebirhan': -1, 'Kemise': -1, 'Dessie': -1, 'Woldia': -1, 'Samara': -1, 'Fantrasu': -1, 'Killbetrasu': -1, 'Gabirasu': -1, 'Awash': -1, 'Matahara': -1, 'Chiro': -1, 'Diredawa': -1, 'Harar': -1, 'Babile': -1, 'Jigjiga': -1, 'Degahabur': -1, 'Kebridahar': -1, 'Werder': -1, 'Gode': -1, 'Dollo': -1, 'Mokadisho': -1, 'Sofoumer': -1, 'Goba': -1, 'Bale': -1, 'Liber': -1, 'Dodolla': -1, 'Assesa': -1, 'Assela': -1, 'Shashemene': -1, 'Hawassa': -1, 'Dilla': -1, 'Bulehora': -1, 'Yabello': -1, 'Moyale': -1, 'Nirobi': -1, 'Konso': -1, 'Arbaminch': -1, 'Basketo': -1, 'Bench Maji': -1, 'Juba': -1, 'Dawro': -1, 'Bonga': -1, 'Jimma': -1, 'Bedelle': -1, 'Gore': -1, 'Tepi': -1, 'Mezan Teferi': -1, 'Gambella': -1, 'Hossana': -1, 'Woilata Sodo': -1}\n",
      "{'Addis Ababa': None, 'Adama': None, 'Batu': None, 'Butajira': None, 'Worabe': None, 'Welkite': None, 'Ambo': None, 'Nekemte': None, 'Gimbi': None, 'Dembidollo': None, 'Asessa': None, 'Metekel': None, 'Bahirdar': None, 'Azezo': None, 'Gonder': None, 'Metema': None, 'Kartum': None, 'Humera': None, 'Shire': None, 'Debarke': None, 'Axum': None, 'Adwa': None, 'Adigrat': None, 'Asmara': None, 'Mekelle': None, 'Sekota': None, 'Lalibela': None, 'Alamata': None, 'Debretabor': None, 'Injibara': None, 'Finoteselam': None, 'Debremarkos': None, 'Debresina': None, 'Debrebirhan': None, 'Kemise': None, 'Dessie': None, 'Woldia': None, 'Samara': None, 'Fantrasu': None, 'Killbetrasu': None, 'Gabirasu': None, 'Awash': None, 'Matahara': None, 'Chiro': None, 'Diredawa': None, 'Harar': None, 'Babile': None, 'Jigjiga': None, 'Degahabur': None, 'Kebridahar': None, 'Werder': None, 'Gode': None, 'Dollo': None, 'Mokadisho': None, 'Sofoumer': None, 'Goba': None, 'Bale': None, 'Liber': None, 'Dodolla': None, 'Assesa': None, 'Assela': None, 'Shashemene': None, 'Hawassa': None, 'Dilla': None, 'Bulehora': None, 'Yabello': None, 'Moyale': None, 'Nirobi': None, 'Konso': None, 'Arbaminch': None, 'Basketo': None, 'Bench Maji': None, 'Juba': None, 'Dawro': None, 'Bonga': None, 'Jimma': None, 'Bedelle': None, 'Gore': None, 'Tepi': None, 'Mezan Teferi': None, 'Gambella': None, 'Hossana': None, 'Woilata Sodo': None}\n"
     ]
    }
   ],
   "source": [
    "visited = {}\n",
    "level ={}\n",
    "parent ={}\n",
    "bfs_traversal_output =[]\n",
    "queue = Queue()\n",
    "\n",
    "for node in adj_list.keys():\n",
    "    visited[node]= False\n",
    "    parent[node]=None\n",
    "    level[node]= -1\n",
    "    \n",
    "print(visited)\n",
    "print(level)\n",
    "print(parent)"
   ]
  },
  {
   "cell_type": "code",
   "execution_count": 49,
   "metadata": {},
   "outputs": [
    {
     "name": "stdout",
     "output_type": "stream",
     "text": [
      "['Addis Ababa', 'Adama', 'Ambo', 'Debrebirhan', 'Batu', 'Assela', 'Matahara', 'Welkite', 'Nekemte', 'Debresina', 'Butajira', 'Shashemene', 'Assesa', 'Awash', 'Worabe', 'Jimma', 'Gimbi', 'Bedelle', 'Debremarkos', 'Kemise', 'Dodolla', 'Hawassa', 'Hossana', 'Gabirasu', 'Chiro', 'Bonga', 'Dembidollo', 'Gore', 'Finoteselam', 'Dessie', 'Bale', 'Dilla', 'Woilata Sodo', 'Samara', 'Diredawa', 'Dawro', 'Mezan Teferi', 'Tepi', 'Gambella', 'Injibara', 'Bahirdar', 'Woldia', 'Goba', 'Sofoumer', 'Liber', 'Bulehora', 'Arbaminch', 'Alamata', 'Fantrasu', 'Harar', 'Basketo', 'Metekel', 'Azezo', 'Debretabor', 'Lalibela', 'Degahabur', 'Kebridahar', 'Yabello', 'Konso', 'Sekota', 'Mekelle', 'Killbetrasu', 'Babile', 'Bench Maji', 'Asessa', 'Gonder', 'Metema', 'Jigjiga', 'Werder', 'Gode', 'Moyale', 'Adwa', 'Adigrat', 'Juba', 'Humera', 'Debarke', 'Kartum', 'Dollo', 'Mokadisho', 'Nirobi', 'Axum', 'Asmara', 'Shire']\n"
     ]
    }
   ],
   "source": [
    "s = \"Addis Ababa\"\n",
    "visited[s]= True\n",
    "level[s]= 0\n",
    "queue.put(s)\n",
    "\n",
    "while not queue.empty():\n",
    "    u = queue.get()\n",
    "    bfs_traversal_output.append(u)\n",
    "    \n",
    "    for v in adj_list[u]:\n",
    "        if not visited[v]:\n",
    "            visited[v] = True\n",
    "            parent[v]= u \n",
    "            level[v]= level[u] +1\n",
    "            queue.put(v)\n",
    "print(bfs_traversal_output)"
   ]
  },
  {
   "cell_type": "code",
   "execution_count": 57,
   "metadata": {},
   "outputs": [
    {
     "name": "stdout",
     "output_type": "stream",
     "text": [
      "9\n",
      "9\n",
      "8\n",
      "9\n"
     ]
    }
   ],
   "source": [
    "#shortest distance of all nodes from source node\n",
    "print(level[\"Shire\"])\n",
    "print(level[\"Nirobi\"])\n",
    "print(level[\"Kartum\"])\n",
    "print(level[\"Asmara\"])"
   ]
  },
  {
   "cell_type": "code",
   "execution_count": 59,
   "metadata": {},
   "outputs": [
    {
     "name": "stdout",
     "output_type": "stream",
     "text": [
      "['Addis Ababa', 'Debrebirhan', 'Debresina', 'Debremarkos', 'Finoteselam', 'Bahirdar', 'Azezo', 'Gonder', 'Humera', 'Shire']\n"
     ]
    }
   ],
   "source": [
    "#shortest pathfrom any node from source node\n",
    "v = \"Shire\"\n",
    "path =[]\n",
    "while v is not None:\n",
    "    path.append(v)\n",
    "    v = parent[v]\n",
    "path.reverse()\n",
    "print(path)\n",
    "    "
   ]
  },
  {
   "cell_type": "code",
   "execution_count": null,
   "metadata": {},
   "outputs": [],
   "source": []
  }
 ],
 "metadata": {
  "kernelspec": {
   "display_name": "Python 3",
   "language": "python",
   "name": "python3"
  },
  "language_info": {
   "codemirror_mode": {
    "name": "ipython",
    "version": 3
   },
   "file_extension": ".py",
   "mimetype": "text/x-python",
   "name": "python",
   "nbconvert_exporter": "python",
   "pygments_lexer": "ipython3",
   "version": "3.8.5"
  }
 },
 "nbformat": 4,
 "nbformat_minor": 4
}
