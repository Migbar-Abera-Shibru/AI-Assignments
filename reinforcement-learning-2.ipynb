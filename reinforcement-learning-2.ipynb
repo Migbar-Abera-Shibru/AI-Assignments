{
 "cells": [
  {
   "cell_type": "code",
   "execution_count": 1,
   "id": "c8dac399",
   "metadata": {
    "_cell_guid": "b1076dfc-b9ad-4769-8c92-a6c4dae69d19",
    "_uuid": "8f2839f25d086af736a60e9eeb907d3b93b6e0e5",
    "execution": {
     "iopub.execute_input": "2023-11-11T18:35:07.845503Z",
     "iopub.status.busy": "2023-11-11T18:35:07.845099Z",
     "iopub.status.idle": "2023-11-11T18:35:07.856394Z",
     "shell.execute_reply": "2023-11-11T18:35:07.855337Z"
    },
    "papermill": {
     "duration": 0.019171,
     "end_time": "2023-11-11T18:35:07.858726",
     "exception": false,
     "start_time": "2023-11-11T18:35:07.839555",
     "status": "completed"
    },
    "tags": []
   },
   "outputs": [],
   "source": [
    "import numpy as np\n",
    "\n",
    "# Grid world environment\n",
    "grid_size = 5\n",
    "num_actions = 4"
   ]
  },
  {
   "cell_type": "code",
   "execution_count": 2,
   "id": "7927147e",
   "metadata": {
    "execution": {
     "iopub.execute_input": "2023-11-11T18:35:07.867960Z",
     "iopub.status.busy": "2023-11-11T18:35:07.867633Z",
     "iopub.status.idle": "2023-11-11T18:35:07.872047Z",
     "shell.execute_reply": "2023-11-11T18:35:07.871048Z"
    },
    "papermill": {
     "duration": 0.01225,
     "end_time": "2023-11-11T18:35:07.874215",
     "exception": false,
     "start_time": "2023-11-11T18:35:07.861965",
     "status": "completed"
    },
    "tags": []
   },
   "outputs": [],
   "source": [
    "# Q-learning parameters\n",
    "num_episodes = 1000\n",
    "alpha = 0.5\n",
    "gamma = 0.9"
   ]
  },
  {
   "cell_type": "code",
   "execution_count": 3,
   "id": "674a08c8",
   "metadata": {
    "execution": {
     "iopub.execute_input": "2023-11-11T18:35:07.881427Z",
     "iopub.status.busy": "2023-11-11T18:35:07.881113Z",
     "iopub.status.idle": "2023-11-11T18:35:07.885540Z",
     "shell.execute_reply": "2023-11-11T18:35:07.884571Z"
    },
    "papermill": {
     "duration": 0.010534,
     "end_time": "2023-11-11T18:35:07.887705",
     "exception": false,
     "start_time": "2023-11-11T18:35:07.877171",
     "status": "completed"
    },
    "tags": []
   },
   "outputs": [],
   "source": [
    "# Initialize Q-table\n",
    "Q = np.zeros((grid_size, grid_size, num_actions))"
   ]
  },
  {
   "cell_type": "code",
   "execution_count": 4,
   "id": "3af03477",
   "metadata": {
    "execution": {
     "iopub.execute_input": "2023-11-11T18:35:07.894918Z",
     "iopub.status.busy": "2023-11-11T18:35:07.894604Z",
     "iopub.status.idle": "2023-11-11T18:35:07.899963Z",
     "shell.execute_reply": "2023-11-11T18:35:07.898882Z"
    },
    "papermill": {
     "duration": 0.011631,
     "end_time": "2023-11-11T18:35:07.902277",
     "exception": false,
     "start_time": "2023-11-11T18:35:07.890646",
     "status": "completed"
    },
    "tags": []
   },
   "outputs": [],
   "source": [
    "# Define reward function\n",
    "def get_reward(state, action):\n",
    "    if state == (grid_size - 1, grid_size - 1):\n",
    "        return 10\n",
    "    else:\n",
    "        return -1"
   ]
  },
  {
   "cell_type": "code",
   "execution_count": 5,
   "id": "9814579e",
   "metadata": {
    "execution": {
     "iopub.execute_input": "2023-11-11T18:35:07.909520Z",
     "iopub.status.busy": "2023-11-11T18:35:07.909201Z",
     "iopub.status.idle": "2023-11-11T18:35:08.140460Z",
     "shell.execute_reply": "2023-11-11T18:35:08.139525Z"
    },
    "papermill": {
     "duration": 0.238047,
     "end_time": "2023-11-11T18:35:08.143269",
     "exception": false,
     "start_time": "2023-11-11T18:35:07.905222",
     "status": "completed"
    },
    "tags": []
   },
   "outputs": [],
   "source": [
    "# Q-learning algorithm\n",
    "for episode in range(num_episodes):\n",
    "    # Initialize the starting state\n",
    "    state = (0, 0)\n",
    "\n",
    "    while state != (grid_size - 1, grid_size - 1):\n",
    "        # Choose an action based on the epsilon-greedy policy\n",
    "        if np.random.rand() < 0.1:\n",
    "            action = np.random.randint(num_actions)\n",
    "        else:\n",
    "            action = np.argmax(Q[state])\n",
    "\n",
    "        # Take the action and observe the next state and reward\n",
    "        if action == 0:  # Up\n",
    "            next_state = (max(state[0] - 1, 0), state[1])\n",
    "        elif action == 1:  # Down\n",
    "            next_state = (min(state[0] + 1, grid_size - 1), state[1])\n",
    "        elif action == 2:  # Left\n",
    "            next_state = (state[0], max(state[1] - 1, 0))\n",
    "        elif action == 3:  # Right\n",
    "            next_state = (state[0], min(state[1] + 1, grid_size - 1))\n",
    "\n",
    "        reward = get_reward(next_state, action)\n",
    "\n",
    "        # Update Q-table using Q-learning update rule\n",
    "        Q[state][action] += alpha * (reward + gamma * np.max(Q[next_state]) - Q[state][action])\n",
    "\n",
    "        # Move to the next state\n",
    "        state = next_state"
   ]
  },
  {
   "cell_type": "code",
   "execution_count": 6,
   "id": "24237ccd",
   "metadata": {
    "execution": {
     "iopub.execute_input": "2023-11-11T18:35:08.151046Z",
     "iopub.status.busy": "2023-11-11T18:35:08.150636Z",
     "iopub.status.idle": "2023-11-11T18:35:08.160170Z",
     "shell.execute_reply": "2023-11-11T18:35:08.159046Z"
    },
    "papermill": {
     "duration": 0.017283,
     "end_time": "2023-11-11T18:35:08.163657",
     "exception": false,
     "start_time": "2023-11-11T18:35:08.146374",
     "status": "completed"
    },
    "tags": []
   },
   "outputs": [
    {
     "name": "stdout",
     "output_type": "stream",
     "text": [
      "Learned Q-values:\n",
      "State (0, 0):\n",
      "  Up: -1.3906558059373813\n",
      "  Down: -0.43407470316366903\n",
      "  Left: -1.390655801019927\n",
      "  Right: -0.4340620000000006\n",
      "State (0, 1):\n",
      "  Up: -0.4340620004367673\n",
      "  Down: 0.6288199992091221\n",
      "  Left: -1.3906561860229638\n",
      "  Right: 0.6288199999999993\n",
      "State (0, 2):\n",
      "  Up: 0.6288199752855492\n",
      "  Down: 1.8097999999999992\n",
      "  Left: -0.43406201158589\n",
      "  Right: 1.809799999938773\n",
      "State (0, 3):\n",
      "  Up: 0.07159638671874946\n",
      "  Down: 3.121999999999999\n",
      "  Left: -1.8152187499999999\n",
      "  Right: 0.8477080078124994\n",
      "State (0, 4):\n",
      "  Up: -0.7344687500000002\n",
      "  Down: 4.579976806640625\n",
      "  Left: 0.9346931772786119\n",
      "  Right: 0.0029687499999997424\n",
      "State (1, 0):\n",
      "  Up: -1.8696729465820316\n",
      "  Down: -2.7729480468750003\n",
      "  Left: -3.0166270390625005\n",
      "  Right: 0.6288195658344791\n",
      "State (1, 1):\n",
      "  Up: -1.0063280820312506\n",
      "  Down: -0.7762420863106033\n",
      "  Left: -0.7016675608947511\n",
      "  Right: 1.8097999999999992\n",
      "State (1, 2):\n",
      "  Up: 0.6288199297092052\n",
      "  Down: 2.498950608956008\n",
      "  Left: 0.6288199762916693\n",
      "  Right: 3.121999999999999\n",
      "State (1, 3):\n",
      "  Up: 1.809799993698959\n",
      "  Down: 4.579999992835539\n",
      "  Left: 1.809788561439512\n",
      "  Right: 4.579999999999998\n",
      "State (1, 4):\n",
      "  Up: 3.1213962187767024\n",
      "  Down: 6.199999999999999\n",
      "  Left: 3.121999983941204\n",
      "  Right: 4.579999668896198\n",
      "State (2, 0):\n",
      "  Up: -2.6520544531250003\n",
      "  Down: -2.299859375\n",
      "  Left: -2.262190625\n",
      "  Right: -2.44158125\n",
      "State (2, 1):\n",
      "  Up: -2.467896875\n",
      "  Down: -2.241921875\n",
      "  Left: -2.2757029687499997\n",
      "  Right: 2.0329796533974425\n",
      "State (2, 2):\n",
      "  Up: 1.8097992150545112\n",
      "  Down: 4.508024073464176\n",
      "  Left: -2.388975\n",
      "  Right: 1.539211730944623\n",
      "State (2, 3):\n",
      "  Up: 2.566124999999999\n",
      "  Down: 2.549993053078652\n",
      "  Left: 0.37019386011123445\n",
      "  Right: 6.199999999999999\n",
      "State (2, 4):\n",
      "  Up: 4.579957618713378\n",
      "  Down: 8.0\n",
      "  Left: 4.57999993669725\n",
      "  Right: 6.199999995046529\n",
      "State (3, 0):\n",
      "  Up: -2.5154140625\n",
      "  Down: -1.8861875\n",
      "  Left: -2.06928125\n",
      "  Right: -2.12525\n",
      "State (3, 1):\n",
      "  Up: -2.0708953125000003\n",
      "  Down: -1.64625\n",
      "  Left: -2.04084375\n",
      "  Right: -0.624921875\n",
      "State (3, 2):\n",
      "  Up: -1.5837499999999998\n",
      "  Down: -1.20125\n",
      "  Left: -1.18875\n",
      "  Right: 6.194061043904822\n",
      "State (3, 3):\n",
      "  Up: -0.75\n",
      "  Down: 7.999999999904276\n",
      "  Left: 1.3558799743652346\n",
      "  Right: 3.75\n",
      "State (3, 4):\n",
      "  Up: 6.199999201297761\n",
      "  Down: 10.0\n",
      "  Left: 6.199999780022813\n",
      "  Right: 7.9999999683350165\n",
      "State (4, 0):\n",
      "  Up: -1.8549375\n",
      "  Down: -1.8549375\n",
      "  Left: -1.8549375\n",
      "  Right: -1.809375\n",
      "State (4, 1):\n",
      "  Up: -1.5274999999999999\n",
      "  Down: -1.651875\n",
      "  Left: -1.7924375\n",
      "  Right: -0.54375\n",
      "State (4, 2):\n",
      "  Up: -0.975\n",
      "  Down: -0.975\n",
      "  Left: -1.2\n",
      "  Right: 4.546875\n",
      "State (4, 3):\n",
      "  Up: 0.43125000000000013\n",
      "  Down: -0.5\n",
      "  Left: -0.725\n",
      "  Right: 9.999999999997726\n",
      "State (4, 4):\n",
      "  Up: 0.0\n",
      "  Down: 0.0\n",
      "  Left: 0.0\n",
      "  Right: 0.0\n"
     ]
    }
   ],
   "source": [
    "# Print the learned Q-values\n",
    "print(\"Learned Q-values:\")\n",
    "for i in range(grid_size):\n",
    "    for j in range(grid_size):\n",
    "        print(f\"State ({i}, {j}):\")\n",
    "        print(\"  Up:\", Q[i][j][0])\n",
    "        print(\"  Down:\", Q[i][j][1])\n",
    "        print(\"  Left:\", Q[i][j][2])\n",
    "        print(\"  Right:\", Q[i][j][3])"
   ]
  }
 ],
 "metadata": {
  "kernelspec": {
   "display_name": "Python 3",
   "language": "python",
   "name": "python3"
  },
  "language_info": {
   "codemirror_mode": {
    "name": "ipython",
    "version": 3
   },
   "file_extension": ".py",
   "mimetype": "text/x-python",
   "name": "python",
   "nbconvert_exporter": "python",
   "pygments_lexer": "ipython3",
   "version": "3.10.12"
  },
  "papermill": {
   "default_parameters": {},
   "duration": 4.570217,
   "end_time": "2023-11-11T18:35:08.485362",
   "environment_variables": {},
   "exception": null,
   "input_path": "__notebook__.ipynb",
   "output_path": "__notebook__.ipynb",
   "parameters": {},
   "start_time": "2023-11-11T18:35:03.915145",
   "version": "2.4.0"
  }
 },
 "nbformat": 4,
 "nbformat_minor": 5
}
